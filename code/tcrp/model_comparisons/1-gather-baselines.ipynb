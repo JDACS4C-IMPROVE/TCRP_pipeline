{
 "cells": [
  {
   "cell_type": "code",
   "execution_count": 1,
   "id": "edb5ab02",
   "metadata": {},
   "outputs": [],
   "source": [
    "import numpy as np\n",
    "import matplotlib.pyplot as plt\n",
    "from pathlib import Path"
   ]
  },
  {
   "cell_type": "code",
   "execution_count": 3,
   "id": "faf2132a",
   "metadata": {},
   "outputs": [
    {
     "name": "stdout",
     "output_type": "stream",
     "text": [
      "681640\n",
      "Axitinib\n",
      "AZ628\n",
      "AZD7762\n",
      "Bosutinib\n",
      "Camptothecin\n",
      "CHIR-99021\n",
      "Embelin\n",
      "Gefitinib\n",
      "JQ1\n",
      "KU-55933\n",
      "MK-2206\n",
      "RO-3306\n",
      "Sorafenib\n"
     ]
    }
   ],
   "source": [
    "%%bash\n",
    "\n",
    "ls /data/baseline_performances"
   ]
  },
  {
   "cell_type": "code",
   "execution_count": 4,
   "id": "73dcd54f",
   "metadata": {},
   "outputs": [],
   "source": [
    "datapath = Path(\"/data/baseline_performances\")"
   ]
  },
  {
   "cell_type": "code",
   "execution_count": 5,
   "id": "a0879406",
   "metadata": {},
   "outputs": [
    {
     "name": "stdout",
     "output_type": "stream",
     "text": [
      "CPU times: user 35 ms, sys: 4.28 ms, total: 39.3 ms\n",
      "Wall time: 39.6 ms\n"
     ]
    }
   ],
   "source": [
    "%%time\n",
    "\n",
    "results = {}\n",
    "for outer_directory in datapath.glob(\"*\"): \n",
    "    drug = outer_directory.stem\n",
    "    results[drug] = {}\n",
    "    \n",
    "    for inner_directory in outer_directory.glob(\"*\"): \n",
    "        tissue = inner_directory.stem\n",
    "        results[drug][tissue] = {}\n",
    "        \n",
    "        data = np.load(inner_directory / \"baseline_performance.npz\")\n",
    "        \n",
    "        for model in ['linear', 'KNN', 'RF']: \n",
    "            zero = data[f\"{model}-zero\"]\n",
    "            zero = np.vstack([zero for _ in range(10)]) # There is only 1 possible zero-shot, so expanding for all trials\n",
    "            performance = np.median(np.hstack([zero, data[f\"{model}-fewshot\"]]), axis=0)\n",
    "            \n",
    "            results[drug][tissue][model] = performance    "
   ]
  },
  {
   "cell_type": "markdown",
   "id": "b983effe",
   "metadata": {},
   "source": [
    "## Collapsing across all results"
   ]
  },
  {
   "cell_type": "code",
   "execution_count": 17,
   "id": "5c58665a",
   "metadata": {},
   "outputs": [],
   "source": [
    "results_by_baseline = {'linear': [], 'KNN': [], 'RF': []}\n",
    "\n",
    "for drug, d in results.items(): \n",
    "    for tissue, d in d.items(): \n",
    "        for model, p in d.items(): \n",
    "            p = np.nan_to_num(p)\n",
    "            results_by_baseline[model].append(p)\n",
    "            \n",
    "for model, ps in results_by_baseline.items(): \n",
    "    results_by_baseline[model] = np.vstack(ps)"
   ]
  },
  {
   "cell_type": "code",
   "execution_count": 20,
   "id": "b77ad909",
   "metadata": {},
   "outputs": [
    {
     "data": {
      "text/plain": [
       "[Text(0, 0, 'Pretrained'),\n",
       " Text(1, 0, '1'),\n",
       " Text(2, 0, '2'),\n",
       " Text(3, 0, '3'),\n",
       " Text(4, 0, '4'),\n",
       " Text(5, 0, '5'),\n",
       " Text(6, 0, '6'),\n",
       " Text(7, 0, '7'),\n",
       " Text(8, 0, '8'),\n",
       " Text(9, 0, '9'),\n",
       " Text(10, 0, '10')]"
      ]
     },
     "execution_count": 20,
     "metadata": {},
     "output_type": "execute_result"
    },
    {
     "data": {
      "image/png": "[encoded data removed]",
      "text/plain": [
       "<Figure size 432x288 with 1 Axes>"
      ]
     },
     "metadata": {
      "needs_background": "light"
     },
     "output_type": "display_data"
    }
   ],
   "source": [
    "%matplotlib inline\n",
    "fig, ax = plt.subplots()\n",
    "\n",
    "for model, ps in results_by_baseline.items(): \n",
    "    ax.plot(np.arange(11), np.mean(ps, axis=0), label=model)\n",
    "    \n",
    "ax.legend()\n",
    "labels = ['Pretrained'] + [str(i) for i in range(1, 11)]\n",
    "ax.set_xticks(np.arange(11))\n",
    "ax.set_xticklabels(labels)"
   ]
  },
  {
   "cell_type": "code",
   "execution_count": 11,
   "id": "770a0656-a700-4df8-bdaf-04d272ea029a",
   "metadata": {},
   "outputs": [
    {
     "data": {
      "text/plain": [
       "{'linear': array([[ 0.34346904,  0.70203702,  0.71641197,  0.69668642,  0.79386194,\n",
       "          0.74050715,  0.58870303,  0.80938939,  0.80858577,  0.74216906,\n",
       "          0.74041694],\n",
       "        [ 0.14213148, -0.03141201, -0.22663464, -0.09725043, -0.3379531 ,\n",
       "         -0.22573264, -0.31014066, -0.58999454, -0.50959682, -0.51240969,\n",
       "         -0.49874174],\n",
       "        [ 0.29303942,  0.21002643,  0.24438987,  0.24412829,  0.24572517,\n",
       "          0.24461605,  0.20955598,  0.19978517,  0.2035562 ,  0.16079951,\n",
       "          0.17655528],\n",
       "        [-0.05636964, -0.05804371, -0.1313264 , -0.06592179, -0.21394384,\n",
       "         -0.12248827, -0.12890076, -0.07885934, -0.04649432, -0.02050207,\n",
       "         -0.01911954],\n",
       "        [ 0.34216212,  0.22488621,  0.23056695,  0.29142978,  0.31633958,\n",
       "          0.28560696,  0.18862758,  0.16922966,  0.20076686,  0.23298948,\n",
       "          0.16921271],\n",
       "        [ 0.11473208,  0.18415652,  0.217362  ,  0.14176861,  0.16510478,\n",
       "          0.06151931,  0.12093172,  0.00803309, -0.07722547, -0.21932587,\n",
       "         -0.29002031],\n",
       "        [ 0.02946853,  0.17418155,  0.1049138 ,  0.14376477,  0.1442776 ,\n",
       "          0.16332406,  0.11286545,  0.05996166,  0.06896734,  0.15450891,\n",
       "          0.15815568],\n",
       "        [ 0.3999401 , -0.11391094, -0.15838619,  0.05816944,  0.03078192,\n",
       "          0.01494849,  0.00459278,  0.01851894,  0.0547443 ,  0.05726795,\n",
       "          0.01448497],\n",
       "        [-0.09241339,  0.12934278, -0.23778591, -0.03438158, -0.12261424,\n",
       "          0.0317623 , -0.03099807, -0.00598893,  0.00098176,  0.10149329,\n",
       "          0.12247015],\n",
       "        [ 0.32981549,  0.27561972,  0.29918933,  0.27342494,  0.27671152,\n",
       "          0.27842558,  0.26899954,  0.25734833,  0.25645144,  0.21627314,\n",
       "          0.22176116],\n",
       "        [ 0.07257738,  0.30643834,  0.2297124 ,  0.24290821,  0.25972209,\n",
       "          0.24793056,  0.23070267,  0.22295143,  0.29436994,  0.30073901,\n",
       "          0.30590325],\n",
       "        [-0.20918941, -0.01911283,  0.06351633, -0.1659186 , -0.10227183,\n",
       "         -0.24512556, -0.15261314, -0.1766591 , -0.02245582,  0.03391807,\n",
       "          0.08688791],\n",
       "        [-0.1235836 , -0.5894081 , -0.24963448, -0.14413082, -0.01076597,\n",
       "          0.1827988 ,  0.15018714,  0.13614893,  0.14180245,  0.30591489,\n",
       "          0.47946191],\n",
       "        [ 0.01371511,  0.16833233,  0.168866  ,  0.17646125,  0.16979466,\n",
       "          0.21008314,  0.20294856,  0.23406784,  0.20895596,  0.22490452,\n",
       "          0.22563783]]),\n",
       " 'KNN': array([[ 4.39608161e-01,  3.92455608e-01,  5.86083239e-01,\n",
       "         -2.90539056e-01,             nan,             nan,\n",
       "                     nan,             nan,  7.42832293e-01,\n",
       "          7.42467352e-01,  7.96668251e-01],\n",
       "        [-3.12106725e-01, -4.43450140e-01,             nan,\n",
       "                     nan,  6.36812104e-03,             nan,\n",
       "                     nan,             nan,             nan,\n",
       "         -5.13820038e-01, -7.07811561e-01],\n",
       "        [ 7.94218881e-02,  2.35029974e-04,  1.26704685e-01,\n",
       "         -6.51191052e-02,  1.64690636e-01,             nan,\n",
       "         -4.16197639e-02, -1.90667653e-01,  6.94025353e-02,\n",
       "          7.32583184e-02,  2.00478157e-01],\n",
       "        [-1.09895924e-01, -3.47455985e-02,  2.44082969e-01,\n",
       "          3.22672743e-01,  1.34697119e-01,             nan,\n",
       "          1.39589116e-01,  2.29331534e-01,  9.76711405e-02,\n",
       "          1.19644346e-01,  1.42606107e-01],\n",
       "        [ 9.10498386e-02,  4.51284915e-01,  1.50488143e-01,\n",
       "          1.15703171e-01,  1.24947399e-02,             nan,\n",
       "          9.95363519e-02, -1.27877103e-01, -7.12278005e-02,\n",
       "         -7.80508737e-02, -5.41262095e-02],\n",
       "        [ 2.79134915e-02,  1.51994941e-01, -1.01923526e-01,\n",
       "                     nan,             nan,             nan,\n",
       "                     nan,  2.46197942e-02,  4.51061201e-02,\n",
       "         -6.77755025e-02, -2.13097307e-01],\n",
       "        [-1.89710133e-01, -3.42009585e-01, -3.63862703e-01,\n",
       "         -2.16819927e-01,             nan,             nan,\n",
       "         -1.47183061e-01, -2.18879014e-01, -1.48142376e-01,\n",
       "         -1.46751399e-01,  4.81169581e-02],\n",
       "        [-9.19828558e-02, -6.03894268e-02,  2.81475625e-01,\n",
       "          3.75105332e-02, -2.96587688e-01,             nan,\n",
       "                     nan,  7.14226599e-02,  9.07573109e-02,\n",
       "          3.69710322e-02,  6.33160538e-02],\n",
       "        [ 1.05287705e-01,  1.06335558e-01, -2.86616040e-01,\n",
       "                     nan,             nan,             nan,\n",
       "                     nan, -2.34823814e-01, -6.11240553e-02,\n",
       "          1.00774304e-01,  2.87213645e-01],\n",
       "        [ 5.46776089e-02, -3.91722138e-01,  4.89963108e-02,\n",
       "         -1.38915481e-01,  1.86830886e-01,             nan,\n",
       "         -1.66405216e-01, -7.69437493e-02,  5.38109320e-03,\n",
       "          3.22257202e-02,  2.83610935e-02],\n",
       "        [ 8.60342921e-02, -8.87658207e-02,  8.33348363e-02,\n",
       "         -4.40073003e-01,             nan,             nan,\n",
       "                     nan,             nan,  3.93824644e-01,\n",
       "          3.81755791e-01,  3.06216421e-01],\n",
       "        [-1.86561479e-02, -7.43251506e-02,  1.52314453e-01,\n",
       "         -2.82170692e-01,             nan,             nan,\n",
       "         -8.06954355e-02,  9.23537457e-02,  3.07699160e-02,\n",
       "          1.67037534e-01,  2.40974184e-01],\n",
       "        [ 1.95200597e-01,  2.54976054e-01,  3.66442426e-01,\n",
       "         -1.74869523e-01,  3.71541376e-01,             nan,\n",
       "          1.06120812e-01, -6.82288327e-02,  1.52942117e-01,\n",
       "          1.30070109e-01,  1.77718830e-01],\n",
       "        [-3.23021034e-01,  1.99078964e-01,  1.30668707e-01,\n",
       "          3.50850397e-01,             nan,             nan,\n",
       "                     nan,             nan,  3.26569733e-01,\n",
       "          6.98015035e-01,  5.20307885e-01]]),\n",
       " 'RF': array([[ 0.12898832,  0.43904084,  0.13279189,  0.56675852,  0.7315567 ,\n",
       "          0.69667268,  0.83481566,  0.6313528 ,  0.56647202,  0.46895215,\n",
       "          0.34488886],\n",
       "        [-0.04203354, -0.40109899,  0.16589556,  0.05549524,  0.11561951,\n",
       "         -0.27236923, -0.24935867, -0.25457967, -0.02910707,  0.12942107,\n",
       "         -0.08425994],\n",
       "        [ 0.03358092,  0.06958592,  0.15618505,  0.41499794,  0.20974462,\n",
       "          0.14009061,  0.16387632,  0.17676464,  0.29473815,  0.36179917,\n",
       "          0.17989969],\n",
       "        [-0.28029456, -0.0843595 , -0.02699696,  0.06622831, -0.11290767,\n",
       "         -0.00432021, -0.00472798, -0.08726169, -0.11392497, -0.07951265,\n",
       "         -0.07153827],\n",
       "        [ 0.42387144,  0.34317533,  0.12962321, -0.06711477, -0.08945379,\n",
       "         -0.16231924, -0.2790836 , -0.09720215, -0.07776166, -0.18333061,\n",
       "         -0.34324331],\n",
       "        [-0.12690029, -0.17876919,  0.02111945, -0.09552493, -0.12316229,\n",
       "         -0.0039258 , -0.23086731, -0.17238895, -0.16800721, -0.23903329,\n",
       "         -0.45879199],\n",
       "        [-0.09042515,  0.07099114, -0.01831144,  0.0936807 ,  0.12167133,\n",
       "          0.19497393,  0.34644025,  0.29055219,  0.33472522,  0.49480144,\n",
       "          0.49888322],\n",
       "        [-0.21242205, -0.11213086, -0.13341872,  0.06171144, -0.02815371,\n",
       "          0.02750243,  0.10327962,  0.06685858, -0.03047517, -0.03777276,\n",
       "         -0.00569335],\n",
       "        [-0.26116761,  0.1929507 ,  0.08813539,  0.23436105,  0.17216054,\n",
       "          0.18695765,  0.28583308,  0.3238025 ,  0.25689645,  0.36112978,\n",
       "          0.40196733],\n",
       "        [ 0.36898526,  0.19313162,  0.34007057,  0.1909114 ,  0.31655859,\n",
       "          0.26410501,  0.35119316,  0.10735789,  0.25003151,  0.15334809,\n",
       "          0.08890306],\n",
       "        [ 0.26802554, -0.00756083,  0.11876515,  0.11760695,  0.07812761,\n",
       "          0.24436228,  0.13329087,  0.21393275,  0.20792234,  0.38539147,\n",
       "          0.30693324],\n",
       "        [-0.49205525,  0.0023643 , -0.2139689 , -0.24374407, -0.14367671,\n",
       "         -0.26116664, -0.2731135 , -0.36192155, -0.04961205, -0.04995812,\n",
       "         -0.07251277],\n",
       "        [ 0.09091302, -0.01159982, -0.08561019, -0.08061435, -0.10961829,\n",
       "         -0.17822116, -0.15214723, -0.28036028, -0.31389419, -0.2621402 ,\n",
       "         -0.15800881],\n",
       "        [-0.23502424, -0.30325525, -0.28335488, -0.42930455, -0.51111923,\n",
       "         -0.48994163, -0.67693137, -0.43327187, -0.47270837, -0.5111133 ,\n",
       "         -0.32434034]])}"
      ]
     },
     "execution_count": 11,
     "metadata": {},
     "output_type": "execute_result"
    }
   ],
   "source": [
    "ax.plot"
   ]
  },
  {
   "cell_type": "code",
   "execution_count": null,
   "id": "b6c44c56-80e8-4864-936c-d35e514c582c",
   "metadata": {},
   "outputs": [],
   "source": []
  }
 ],
 "metadata": {
  "kernelspec": {
   "display_name": "Python 3 (ipykernel)",
   "language": "python",
   "name": "python3"
  },
  "language_info": {
   "codemirror_mode": {
    "name": "ipython",
    "version": 3
   },
   "file_extension": ".py",
   "mimetype": "text/x-python",
   "name": "python",
   "nbconvert_exporter": "python",
   "pygments_lexer": "ipython3",
   "version": "3.7.3"
  }
 },
 "nbformat": 4,
 "nbformat_minor": 5
}
