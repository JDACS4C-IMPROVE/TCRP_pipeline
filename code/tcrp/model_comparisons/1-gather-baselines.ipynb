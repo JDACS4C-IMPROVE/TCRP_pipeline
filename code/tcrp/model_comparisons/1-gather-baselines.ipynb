{
 "cells": [
  {
   "cell_type": "code",
   "execution_count": 4,
   "id": "edb5ab02",
   "metadata": {},
   "outputs": [],
   "source": [
    "import numpy as np\n",
    "import matplotlib.pyplot as plt\n",
    "from pathlib import Path"
   ]
  },
  {
   "cell_type": "code",
   "execution_count": 98,
   "id": "faf2132a",
   "metadata": {},
   "outputs": [
    {
     "name": "stdout",
     "output_type": "stream",
     "text": [
      "PDTC\n"
     ]
    }
   ],
   "source": [
    "%%bash\n",
    "\n",
    "ls /data/TCRP_performances/BMS-754807"
   ]
  },
  {
   "cell_type": "code",
   "execution_count": 134,
   "id": "73dcd54f",
   "metadata": {},
   "outputs": [],
   "source": [
    "datapath = Path(\"/data/results/baseline_performances\")"
   ]
  },
  {
   "cell_type": "code",
   "execution_count": 135,
   "id": "a0879406",
   "metadata": {},
   "outputs": [
    {
     "name": "stdout",
     "output_type": "stream",
     "text": [
      "CPU times: user 13.8 ms, sys: 0 ns, total: 13.8 ms\n",
      "Wall time: 12.9 ms\n"
     ]
    }
   ],
   "source": [
    "%%time\n",
    "\n",
    "results = {}\n",
    "for outer_directory in datapath.glob(\"*\"): \n",
    "    drug = outer_directory.stem\n",
    "    results[drug] = {}\n",
    "    \n",
    "    for inner_directory in outer_directory.glob(\"*\"): \n",
    "        tissue = inner_directory.stem\n",
    "        results[drug][tissue] = {}\n",
    "        \n",
    "        data = np.load(inner_directory / \"baseline_performance.npz\")\n",
    "        \n",
    "        for model in ['linear', 'KNN', 'RF']: \n",
    "            zero = data[f\"{model}-zero\"]\n",
    "            zero = np.vstack([zero for _ in range(10)]) # There is only 1 possible zero-shot, so expanding for all trials\n",
    "            performance = np.median(np.hstack([zero, data[f\"{model}-fewshot\"]]), axis=0)\n",
    "            \n",
    "            results[drug][tissue][model] = performance    "
   ]
  },
  {
   "cell_type": "code",
   "execution_count": 143,
   "id": "a26cdaa4-4b0c-4a45-a768-3b2f8b7b8dd8",
   "metadata": {},
   "outputs": [
    {
     "data": {
      "text/plain": [
       "(10, 11)"
      ]
     },
     "execution_count": 143,
     "metadata": {},
     "output_type": "execute_result"
    }
   ],
   "source": [
    "np.hstack([zero, data[f\"{model}-fewshot\"]]).shape"
   ]
  },
  {
   "cell_type": "code",
   "execution_count": 147,
   "id": "12775b67-74d8-40c9-9ec6-e936ce84b041",
   "metadata": {},
   "outputs": [],
   "source": [
    "datapath = Path(\"/data/TCRP_performances\")"
   ]
  },
  {
   "cell_type": "code",
   "execution_count": 149,
   "id": "c8eb2612-21b1-4446-a990-33551c917c14",
   "metadata": {},
   "outputs": [],
   "source": [
    "new_data = data[\"TCRP-fewshot\"]"
   ]
  },
  {
   "cell_type": "code",
   "execution_count": 155,
   "id": "7da9c315-d8a0-4740-aa10-810b86e35b22",
   "metadata": {},
   "outputs": [
    {
     "data": {
      "text/plain": [
       "array([[0.21156129],\n",
       "       [0.21156129],\n",
       "       [0.21156129],\n",
       "       [0.21156129],\n",
       "       [0.21156129],\n",
       "       [0.21156129],\n",
       "       [0.21156129],\n",
       "       [0.21156129],\n",
       "       [0.21156129],\n",
       "       [0.21156129]], dtype=float32)"
      ]
     },
     "execution_count": 155,
     "metadata": {},
     "output_type": "execute_result"
    }
   ],
   "source": [
    "zero"
   ]
  },
  {
   "cell_type": "code",
   "execution_count": 156,
   "id": "9807c341-2fc6-40f5-b409-82afa2eee18a",
   "metadata": {},
   "outputs": [
    {
     "name": "stdout",
     "output_type": "stream",
     "text": [
      "CPU times: user 2.62 ms, sys: 0 ns, total: 2.62 ms\n",
      "Wall time: 1.85 ms\n"
     ]
    }
   ],
   "source": [
    "%%time\n",
    "\n",
    "results = {}\n",
    "for outer_directory in datapath.glob(\"*\"): \n",
    "    drug = outer_directory.stem\n",
    "    results[drug] = {}\n",
    "    for inner_directory in outer_directory.glob(\"*\"): \n",
    "        tissue = inner_directory.stem\n",
    "        results[drug][tissue] = {}\n",
    "        \n",
    "        data = np.load(inner_directory / \"TCRP_performance.npz\")\n",
    "        \n",
    "        for model in ['TCRP']: \n",
    "            zero = data[f\"{model}-zero\"]\n",
    "            new_data = data[\"TCRP-fewshot\"] \n",
    "            fewshot = np.vstack([new_data for _ in range(10)])\n",
    "            zero = np.vstack([zero for _ in range(10)]) # There is only 1 possible zero-shot, so expanding for all trials\n",
    "            performance = np.median(np.hstack([zero, fewshot]), axis=0)\n",
    "            \n",
    "            results[drug][tissue][model] = performance    "
   ]
  },
  {
   "cell_type": "markdown",
   "id": "b983effe",
   "metadata": {},
   "source": [
    "## Collapsing across all results"
   ]
  },
  {
   "cell_type": "code",
   "execution_count": 161,
   "id": "f56a7ccb-47e9-43ac-815b-a45e83cb4e62",
   "metadata": {},
   "outputs": [],
   "source": [
    "TCRP_results = {'TCRP': []}\n",
    "\n",
    "for drug, d in results.items(): \n",
    "    for tissue, d in d.items(): \n",
    "        for model, p in d.items(): \n",
    "            p = np.nan_to_num(p)\n",
    "            results_by_baseline[model].append(p)\n",
    "            \n",
    "for model, ps in results_by_baseline.items(): \n",
    "    results_by_baseline[model] = np.vstack(ps)"
   ]
  },
  {
   "cell_type": "code",
   "execution_count": 159,
   "id": "5c58665a",
   "metadata": {},
   "outputs": [
    {
     "ename": "KeyError",
     "evalue": "'TCRP'",
     "output_type": "error",
     "traceback": [
      "\u001b[0;31m---------------------------------------------------------------------------\u001b[0m",
      "\u001b[0;31mKeyError\u001b[0m                                  Traceback (most recent call last)",
      "\u001b[0;32m/tmp/ipykernel_33/2838357636.py\u001b[0m in \u001b[0;36m<module>\u001b[0;34m\u001b[0m\n\u001b[1;32m      5\u001b[0m         \u001b[0;32mfor\u001b[0m \u001b[0mmodel\u001b[0m\u001b[0;34m,\u001b[0m \u001b[0mp\u001b[0m \u001b[0;32min\u001b[0m \u001b[0md\u001b[0m\u001b[0;34m.\u001b[0m\u001b[0mitems\u001b[0m\u001b[0;34m(\u001b[0m\u001b[0;34m)\u001b[0m\u001b[0;34m:\u001b[0m\u001b[0;34m\u001b[0m\u001b[0;34m\u001b[0m\u001b[0m\n\u001b[1;32m      6\u001b[0m             \u001b[0mp\u001b[0m \u001b[0;34m=\u001b[0m \u001b[0mnp\u001b[0m\u001b[0;34m.\u001b[0m\u001b[0mnan_to_num\u001b[0m\u001b[0;34m(\u001b[0m\u001b[0mp\u001b[0m\u001b[0;34m)\u001b[0m\u001b[0;34m\u001b[0m\u001b[0;34m\u001b[0m\u001b[0m\n\u001b[0;32m----> 7\u001b[0;31m             \u001b[0mresults_by_baseline\u001b[0m\u001b[0;34m[\u001b[0m\u001b[0mmodel\u001b[0m\u001b[0;34m]\u001b[0m\u001b[0;34m.\u001b[0m\u001b[0mappend\u001b[0m\u001b[0;34m(\u001b[0m\u001b[0mp\u001b[0m\u001b[0;34m)\u001b[0m\u001b[0;34m\u001b[0m\u001b[0;34m\u001b[0m\u001b[0m\n\u001b[0m\u001b[1;32m      8\u001b[0m \u001b[0;34m\u001b[0m\u001b[0m\n\u001b[1;32m      9\u001b[0m \u001b[0;32mfor\u001b[0m \u001b[0mmodel\u001b[0m\u001b[0;34m,\u001b[0m \u001b[0mps\u001b[0m \u001b[0;32min\u001b[0m \u001b[0mresults_by_baseline\u001b[0m\u001b[0;34m.\u001b[0m\u001b[0mitems\u001b[0m\u001b[0;34m(\u001b[0m\u001b[0;34m)\u001b[0m\u001b[0;34m:\u001b[0m\u001b[0;34m\u001b[0m\u001b[0;34m\u001b[0m\u001b[0m\n",
      "\u001b[0;31mKeyError\u001b[0m: 'TCRP'"
     ]
    }
   ],
   "source": [
    "results_by_baseline = {'linear': [], 'KNN': [], 'RF': []}\n",
    "\n",
    "for drug, d in results.items(): \n",
    "    for tissue, d in d.items(): \n",
    "        for model, p in d.items(): \n",
    "            p = np.nan_to_num(p)\n",
    "            results_by_baseline[model].append(p)\n",
    "            \n",
    "for model, ps in results_by_baseline.items(): \n",
    "    results_by_baseline[model] = np.vstack(ps)"
   ]
  },
  {
   "cell_type": "code",
   "execution_count": 162,
   "id": "a62e0127-bd66-4a05-9886-37148b7d66f5",
   "metadata": {},
   "outputs": [
    {
     "name": "stdout",
     "output_type": "stream",
     "text": [
      "[0.21156129 0.07029902 0.02153648 0.03749916 0.03862091 0.08893061\n",
      " 0.13267747 0.06352775 0.0772083  0.02283824 0.        ]\n"
     ]
    }
   ],
   "source": [
    "for model, ps in results_by_baseline.items(): \n",
    "    print(np.mean(ps, axis=0))"
   ]
  },
  {
   "cell_type": "code",
   "execution_count": 164,
   "id": "b77ad909",
   "metadata": {},
   "outputs": [
    {
     "data": {
      "text/plain": [
       "[Text(0, 0, 'Pretrained'),\n",
       " Text(1, 0, '1'),\n",
       " Text(2, 0, '2'),\n",
       " Text(3, 0, '3'),\n",
       " Text(4, 0, '4'),\n",
       " Text(5, 0, '5'),\n",
       " Text(6, 0, '6'),\n",
       " Text(7, 0, '7'),\n",
       " Text(8, 0, '8'),\n",
       " Text(9, 0, '9'),\n",
       " Text(10, 0, '10')]"
      ]
     },
     "execution_count": 164,
     "metadata": {},
     "output_type": "execute_result"
    },
    {
     "data": {
      "image/png": "[encoded data removed]",
      "text/plain": [
       "<Figure size 432x288 with 1 Axes>"
      ]
     },
     "metadata": {
      "needs_background": "light"
     },
     "output_type": "display_data"
    }
   ],
   "source": [
    "%matplotlib inline\n",
    "fig, ax = plt.subplots()\n",
    "\n",
    "for model, ps in results_by_baseline.items(): \n",
    "    ax.plot(np.arange(11), np.mean(ps, axis=0), label=model)\n",
    "\n",
    "ax.legend()\n",
    "labels = ['Pretrained'] + [str(i) for i in range(1, 11)]\n",
    "ax.set_xticks(np.arange(11))\n",
    "ax.set_xticklabels(labels)"
   ]
  },
  {
   "cell_type": "code",
   "execution_count": null,
   "id": "b6c44c56-80e8-4864-936c-d35e514c582c",
   "metadata": {},
   "outputs": [],
   "source": []
  }
 ],
 "metadata": {
  "kernelspec": {
   "display_name": "Python 3 (ipykernel)",
   "language": "python",
   "name": "python3"
  },
  "language_info": {
   "codemirror_mode": {
    "name": "ipython",
    "version": 3
   },
   "file_extension": ".py",
   "mimetype": "text/x-python",
   "name": "python",
   "nbconvert_exporter": "python",
   "pygments_lexer": "ipython3",
   "version": "3.7.3"
  }
 },
 "nbformat": 4,
 "nbformat_minor": 5
}
