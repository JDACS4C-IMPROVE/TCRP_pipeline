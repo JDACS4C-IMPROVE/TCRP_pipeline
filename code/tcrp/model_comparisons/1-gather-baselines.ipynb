{
 "cells": [
  {
   "cell_type": "code",
   "execution_count": null,
   "id": "edb5ab02",
   "metadata": {},
   "outputs": [],
   "source": [
    "import numpy as np\n",
    "import matplotlib.pyplot as plt\n",
    "from pathlib import Path"
   ]
  },
  {
   "cell_type": "code",
   "execution_count": null,
   "id": "faf2132a",
   "metadata": {},
   "outputs": [],
   "source": [
    "%%bash\n",
    "\n",
    "ls ../../output/210803_drug-baseline-models/baseline_performances/Axitinib"
   ]
  },
  {
   "cell_type": "code",
   "execution_count": null,
   "id": "73dcd54f",
   "metadata": {},
   "outputs": [],
   "source": [
    "datapath = Path(\"../../output/210803_drug-baseline-models/baseline_performances\")"
   ]
  },
  {
   "cell_type": "code",
   "execution_count": null,
   "id": "a0879406",
   "metadata": {},
   "outputs": [],
   "source": [
    "%%time\n",
    "\n",
    "results = {}\n",
    "for outer_directory in datapath.glob(\"*\"): \n",
    "    drug = outer_directory.stem\n",
    "    results[drug] = {}\n",
    "    \n",
    "    for inner_directory in outer_directory.glob(\"*\"): \n",
    "        tissue = inner_directory.stem\n",
    "        results[drug][tissue] = {}\n",
    "        \n",
    "        data = np.load(inner_directory / \"baseline_performance.npz\")\n",
    "        \n",
    "        for model in ['linear', 'KNN', 'RF']: \n",
    "            zero = data[f\"{model}-zero\"]\n",
    "            zero = np.vstack([zero for _ in range(20)]) # There is only 1 possible zero-shot, so expanding for all trials\n",
    "            performance = np.median(np.hstack([zero, data[f\"{model}-fewshot\"]]), axis=0)\n",
    "            \n",
    "            results[drug][tissue][model] = performance    "
   ]
  },
  {
   "cell_type": "markdown",
   "id": "b983effe",
   "metadata": {},
   "source": [
    "## Collapsing across all results"
   ]
  },
  {
   "cell_type": "code",
   "execution_count": null,
   "id": "5c58665a",
   "metadata": {},
   "outputs": [],
   "source": [
    "results_by_baseline = {'linear': [], 'KNN': [], 'RF': []}\n",
    "\n",
    "for drug, d in results.items(): \n",
    "    for tissue, d in d.items(): \n",
    "        for model, p in d.items(): \n",
    "            results_by_baseline[model].append(p)\n",
    "            \n",
    "for model, ps in results_by_baseline.items(): \n",
    "    results_by_baseline[model] = np.vstack(ps)"
   ]
  },
  {
   "cell_type": "code",
   "execution_count": null,
   "id": "b77ad909",
   "metadata": {},
   "outputs": [],
   "source": [
    "fig, ax = plt.subplots()\n",
    "\n",
    "for model, ps in results_by_baseline.items(): \n",
    "    ax.plot(np.arange(11), np.median(ps, axis=0), label=model)\n",
    "    \n",
    "ax.legend()\n",
    "labels = ['Pretrained'] + [str(i) for i in range(1, 11)]\n",
    "ax.set_xticks(np.arange(11))\n",
    "ax.set_xticklabels(labels)"
   ]
  }
 ],
 "metadata": {
  "kernelspec": {
   "display_name": "Python 3",
   "language": "python",
   "name": "python3"
  },
  "language_info": {
   "codemirror_mode": {
    "name": "ipython",
    "version": 3
   },
   "file_extension": ".py",
   "mimetype": "text/x-python",
   "name": "python",
   "nbconvert_exporter": "python",
   "pygments_lexer": "ipython3",
   "version": "3.8.5"
  }
 },
 "nbformat": 4,
 "nbformat_minor": 5
}
