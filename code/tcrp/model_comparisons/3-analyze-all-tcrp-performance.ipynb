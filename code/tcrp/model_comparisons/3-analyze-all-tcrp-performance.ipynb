{
 "cells": [
  {
   "cell_type": "code",
   "execution_count": null,
   "id": "cae49843",
   "metadata": {},
   "outputs": [],
   "source": [
    "%load_ext autoreload\n",
    "%autoreload 2\n",
    "!echo $HOSTNAME\n",
    "\n",
    "import sys\n",
    "print('Python path: ', sys.executable)"
   ]
  },
  {
   "cell_type": "code",
   "execution_count": null,
   "id": "6b69930e",
   "metadata": {},
   "outputs": [],
   "source": [
    "from pathlib import Path\n",
    "from collections import namedtuple\n",
    "import numpy as np\n",
    "import matplotlib.pyplot as plt\n",
    "import pandas as pd\n",
    "import sys\n",
    "import pickle"
   ]
  },
  {
   "cell_type": "markdown",
   "id": "6c7bacab",
   "metadata": {},
   "source": [
    "## Gathering fewshot resutls"
   ]
  },
  {
   "cell_type": "code",
   "execution_count": null,
   "id": "ac3d5b84",
   "metadata": {},
   "outputs": [],
   "source": [
    "fewshot_performance = np.load(\"tcrp_fewshot-test-correlations-corrected.npz\")['arr_0']"
   ]
  },
  {
   "cell_type": "markdown",
   "id": "453eab52",
   "metadata": {},
   "source": [
    "## Gathering baselines"
   ]
  },
  {
   "cell_type": "code",
   "execution_count": null,
   "id": "0c46d183",
   "metadata": {},
   "outputs": [],
   "source": [
    "datapath = Path(\"../../output/210803_drug-baseline-models/baseline_performances\")"
   ]
  },
  {
   "cell_type": "code",
   "execution_count": null,
   "id": "241d0cce",
   "metadata": {},
   "outputs": [],
   "source": [
    "%%time\n",
    "\n",
    "results = {}\n",
    "for outer_directory in datapath.glob(\"*\"): \n",
    "    drug = outer_directory.stem\n",
    "    results[drug] = {}\n",
    "    \n",
    "    for inner_directory in outer_directory.glob(\"*\"): \n",
    "        tissue = inner_directory.stem\n",
    "        results[drug][tissue] = {}\n",
    "        \n",
    "        data = np.load(inner_directory / \"baseline_performance.npz\")\n",
    "        \n",
    "        for model in ['linear', 'KNN', 'RF']: \n",
    "            zero = data[f\"{model}-zero\"]\n",
    "            zero = np.vstack([zero for _ in range(20)]) # There is only 1 possible zero-shot, so expanding for all trials\n",
    "            performance = np.median(np.hstack([zero, data[f\"{model}-fewshot\"]]), axis=0)\n",
    "            \n",
    "            results[drug][tissue][model] = performance    "
   ]
  },
  {
   "cell_type": "code",
   "execution_count": null,
   "id": "bf6978da",
   "metadata": {},
   "outputs": [],
   "source": [
    "results_by_baseline = {'linear': [], 'KNN': [], 'RF': []}\n",
    "\n",
    "for drug, d in results.items(): \n",
    "    for tissue, d in d.items(): \n",
    "        for model, p in d.items(): \n",
    "            results_by_baseline[model].append(p)\n",
    "            \n",
    "for model, ps in results_by_baseline.items(): \n",
    "    results_by_baseline[model] = np.vstack(ps)"
   ]
  },
  {
   "cell_type": "markdown",
   "id": "40d8b153",
   "metadata": {},
   "source": [
    "## All performance"
   ]
  },
  {
   "cell_type": "code",
   "execution_count": null,
   "id": "1862f67f",
   "metadata": {
    "tags": []
   },
   "outputs": [],
   "source": [
    "def get_statistics(data): \n",
    "    median = np.nanmean(data, axis=0)\n",
    "    index = np.random.choice(data.shape[0], size=(data.shape[0], 1000), replace=True)\n",
    "    resampled = np.nanmean(data[index], axis=0)\n",
    "\n",
    "    low = np.nanpercentile(resampled, 2.5, axis=0)\n",
    "    high = np.nanpercentile(resampled, 97.5, axis=0)\n",
    "    \n",
    "    ci = np.vstack([median - low, high-median])\n",
    "    \n",
    "    return median, ci"
   ]
  },
  {
   "cell_type": "code",
   "execution_count": null,
   "id": "e7681c25",
   "metadata": {},
   "outputs": [],
   "source": [
    "fig, ax = plt.subplots()\n",
    "\n",
    "x = np.arange(11)\n",
    "\n",
    "kwargs = {'capsize': 4}\n",
    "\n",
    "for model, ps in results_by_baseline.items(): \n",
    "    median, yerr = get_statistics(ps)\n",
    "    ax.errorbar(x, median, yerr=yerr, label=model, **kwargs)\n",
    "    \n",
    "median, yerr = get_statistics(fewshot_performance)\n",
    "ax.errorbar(x, median, yerr=yerr, label='TCRP', **kwargs)\n",
    "\n",
    "ax.legend()\n",
    "labels = ['Pretrained'] + [str(i) for i in range(1, 11)]\n",
    "ax.set_xticks(np.arange(11))\n",
    "ax.set_xticklabels(labels)\n",
    "\n",
    "ax.set_ylim([0, 0.3])\n",
    "ax.set_xlabel(\"Number of samples, few-shot learning\")\n",
    "ax.set_ylabel(\"Correlation (predicted, actual)\")\n",
    "\n",
    "ax.set_title(\"Corrected results\")"
   ]
  },
  {
   "cell_type": "code",
   "execution_count": null,
   "id": "4423a24f",
   "metadata": {},
   "outputs": [],
   "source": [
    "median"
   ]
  },
  {
   "cell_type": "code",
   "execution_count": null,
   "id": "fb0fe362",
   "metadata": {},
   "outputs": [],
   "source": []
  }
 ],
 "metadata": {
  "kernelspec": {
   "display_name": "Python 3",
   "language": "python",
   "name": "python3"
  },
  "language_info": {
   "codemirror_mode": {
    "name": "ipython",
    "version": 3
   },
   "file_extension": ".py",
   "mimetype": "text/x-python",
   "name": "python",
   "nbconvert_exporter": "python",
   "pygments_lexer": "ipython3",
   "version": "3.8.5"
  }
 },
 "nbformat": 4,
 "nbformat_minor": 5
}
