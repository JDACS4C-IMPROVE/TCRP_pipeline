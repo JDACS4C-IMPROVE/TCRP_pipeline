{
 "cells": [
  {
   "cell_type": "code",
   "execution_count": null,
   "id": "fa87348b-0e3c-4d5e-b497-e558261ad99d",
   "metadata": {},
   "outputs": [],
   "source": [
    "import numpy as np\n",
    "import matplotlib.pyplot as plt\n",
    "from pathlib import Path"
   ]
  },
  {
   "cell_type": "code",
   "execution_count": null,
   "id": "ec741c6d-e821-411c-ad77-75256835bea2",
   "metadata": {},
   "outputs": [],
   "source": [
    "%%bash\n",
    "\n",
    "ls ../../output/210803_drug-baseline-models/baseline_performances/Axitinib"
   ]
  },
  {
   "cell_type": "code",
   "execution_count": null,
   "id": "b4e53f9d-5031-4924-aa14-37da4fbf6b4c",
   "metadata": {},
   "outputs": [],
   "source": [
    "datapath = Path(\"../../output/210803_drug-baseline-models/baseline_performances\")"
   ]
  },
  {
   "cell_type": "code",
   "execution_count": null,
   "id": "1a3aa265-9d89-4705-9eed-448c050a3d49",
   "metadata": {},
   "outputs": [],
   "source": [
    "%%time\n",
    "\n",
    "results = {}\n",
    "for outer_directory in datapath.glob(\"*\"): \n",
    "    drug = outer_directory.stem\n",
    "    results[drug] = {}\n",
    "    \n",
    "    for inner_directory in outer_directory.glob(\"*\"): \n",
    "        tissue = inner_directory.stem\n",
    "        results[drug][tissue] = {}\n",
    "        \n",
    "        data = np.load(inner_directory / \"baseline_performance.npz\")\n",
    "        \n",
    "        for model in ['linear', 'KNN', 'RF']: \n",
    "            zero = data[f\"{model}-zero\"]\n",
    "            zero = np.vstack([zero for _ in range(20)]) # There is only 1 possible zero-shot, so expanding for all trials\n",
    "            performance = np.median(np.hstack([zero, data[f\"{model}-fewshot\"]]), axis=0)\n",
    "            \n",
    "            results[drug][tissue][model] = performance    "
   ]
  },
  {
   "cell_type": "markdown",
   "id": "2bf50980-bfcf-4c4d-8e23-979222dc3f80",
   "metadata": {},
   "source": [
    "## Collapsing across all results"
   ]
  },
  {
   "cell_type": "code",
   "execution_count": null,
   "id": "b0b54e9a-fc16-4777-924d-934dd6257907",
   "metadata": {},
   "outputs": [],
   "source": [
    "results_by_baseline = {'linear': [], 'KNN': [], 'RF': []}\n",
    "\n",
    "for drug, d in results.items(): \n",
    "    for tissue, d in d.items(): \n",
    "        for model, p in d.items(): \n",
    "            results_by_baseline[model].append(p)\n",
    "            \n",
    "for model, ps in results_by_baseline.items(): \n",
    "    results_by_baseline[model] = np.vstack(ps)"
   ]
  },
  {
   "cell_type": "code",
   "execution_count": null,
   "id": "73c6dce9-e078-4da2-b75e-0589ff903e37",
   "metadata": {},
   "outputs": [],
   "source": [
    "fig, ax = plt.subplots()\n",
    "\n",
    "for model, ps in results_by_baseline.items(): \n",
    "    ax.plot(np.arange(11), np.median(ps, axis=0), label=model)\n",
    "    \n",
    "ax.legend()\n",
    "labels = ['Pretrained'] + [str(i) for i in range(1, 11)]\n",
    "ax.set_xticks(np.arange(11))\n",
    "ax.set_xticklabels(labels)"
   ]
  }
 ],
 "metadata": {
  "kernelspec": {
   "display_name": "Python (decipher)",
   "language": "python",
   "name": "decipher"
  },
  "language_info": {
   "codemirror_mode": {
    "name": "ipython",
    "version": 3
   },
   "file_extension": ".py",
   "mimetype": "text/x-python",
   "name": "python",
   "nbconvert_exporter": "python",
   "pygments_lexer": "ipython3",
   "version": "3.9.4"
  }
 },
 "nbformat": 4,
 "nbformat_minor": 5
}
