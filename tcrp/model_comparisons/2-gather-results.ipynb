{
 "cells": [
  {
   "cell_type": "code",
   "execution_count": null,
   "id": "9609bc1a-10ad-4e9d-ba23-d59a8ca4eed8",
   "metadata": {},
   "outputs": [],
   "source": [
    "%load_ext autoreload\n",
    "%autoreload 2\n",
    "!echo $HOSTNAME\n",
    "\n",
    "import sys\n",
    "print('Python path: ', sys.executable)"
   ]
  },
  {
   "cell_type": "code",
   "execution_count": null,
   "id": "c2e06573-afc3-42dc-8d7f-9f356554bc00",
   "metadata": {},
   "outputs": [],
   "source": [
    "from pathlib import Path\n",
    "from collections import namedtuple\n",
    "import numpy as np\n",
    "import matplotlib.pyplot as plt\n",
    "import pandas as pd\n",
    "import sys\n",
    "\n",
    "from multiprocessing import Pool, cpu_count"
   ]
  },
  {
   "cell_type": "code",
   "execution_count": null,
   "id": "14650806-c815-43f2-ba90-8b1c286b5261",
   "metadata": {},
   "outputs": [],
   "source": [
    "Metrics = namedtuple(\"Metrics\", ['train_loss', 'train_corr', 'test_loss', 'test_corr'])"
   ]
  },
  {
   "cell_type": "code",
   "execution_count": null,
   "id": "cc4fe9bf-769e-4742-820f-eb73e51f5235",
   "metadata": {},
   "outputs": [],
   "source": [
    "def correctly_parse_log_path(filepath): \n",
    "    filepath = Path(filepath)\n",
    "    stem = filepath.stem\n",
    "    \n",
    "    array = stem.split(\"_\")\n",
    "    hyperparameter_str = '_'.join(array[-4:])\n",
    "    \n",
    "    best_epoch = -1\n",
    "    record = False\n",
    "    \n",
    "    all_metrics = []\n",
    "    \n",
    "    with open(filepath) as f: \n",
    "        for line in f.readlines(): \n",
    "            if line.startswith(\"epoch:\"): \n",
    "                record = True\n",
    "                epoch = int(line.split(':')[1].strip())\n",
    "                metrics_container = []\n",
    "                continue\n",
    "                \n",
    "            if line.startswith(\"Meta update\"): \n",
    "                record = False\n",
    "                current_best_epoch = int(line.split('best epoch')[1].strip())\n",
    "                if current_best_epoch > best_epoch: \n",
    "                    best_epoch = current_best_epoch\n",
    "                    \n",
    "                all_metrics.append(np.vstack(metrics_container))\n",
    "                    \n",
    "            if record: \n",
    "                try: \n",
    "                    k, metrics = parse_line(line)\n",
    "                except: \n",
    "                    continue\n",
    "                    \n",
    "                metrics_container.append(metrics)\n",
    "                \n",
    "    performance = all_metrics[best_epoch]\n",
    "    train_loss = performance[:, 0]\n",
    "    train_corr = performance[:, 1]\n",
    "    test_loss = performance[:, 2]\n",
    "    test_corr = performance[:, 3]\n",
    "    \n",
    "    return train_loss, train_corr, test_loss, test_corr\n",
    "    \n",
    "                \n",
    "def parse_line(line):\n",
    "    k = int(line.split('Few shot')[0].strip())\n",
    "    if line.startswith(\"0 Few shot\"):\n",
    "        line = line.replace('tensor(', '').replace(', device=', ' ')\n",
    "\n",
    "    line = line.split(':')[1]\n",
    "    vals = [float(i) for i in line.split()[:4]]\n",
    "    \n",
    "    return k, vals\n",
    "\n",
    "\n",
    "def select_hyperparameter(log_directory): \n",
    "    log_directory = Path(log_directory)\n",
    "    \n",
    "    results = {}\n",
    "    for f in log_directory.glob(\"*.log\"):\n",
    "        hyperparameter = '-'.join(f.stem.split('_')[-4:])\n",
    "        out = correctly_parse_log_path(f)\n",
    "\n",
    "        results[hyperparameter] = Metrics(*out)\n",
    "        \n",
    "    # Select model with the lowest training loss in the final k\n",
    "#     best_hyperparameter, best_hyperparameter_performance = sorted(results.items(), key=lambda x: x[1].train_loss[-1])[0]\n",
    "    best_hyperparameter, best_hyperparameter_performance = sorted(results.items(), key=lambda x: x[1].train_corr[-1])[-1]\n",
    "\n",
    "    return best_hyperparameter, best_hyperparameter_performance"
   ]
  },
  {
   "cell_type": "code",
   "execution_count": null,
   "id": "a4c32aa2-d8e8-4687-b185-7117ffe124f3",
   "metadata": {},
   "outputs": [],
   "source": [
    "%%time\n",
    "\n",
    "logs_directory = Path(\"/cellar/users/shfong/projects/TCRP-refactored/tcrp-original/output/210726_complete-drug-run-v2/run-logs\")\n",
    "\n",
    "all_paths = []\n",
    "for drug_directory in logs_directory.glob(\"*\"): \n",
    "    for tissue_directory in drug_directory.glob(\"*\"): \n",
    "        all_paths.append(tissue_directory)\n",
    "        \n",
    "with Pool(64) as p: \n",
    "    results = p.map(select_hyperparameter, all_paths)\n",
    "    \n",
    "all_test_corrs = np.vstack([metric.test_corr for param, metric in results])"
   ]
  },
  {
   "cell_type": "code",
   "execution_count": null,
   "id": "834b5602-da48-4e2a-828f-417e00f7b145",
   "metadata": {},
   "outputs": [],
   "source": [
    "x = np.mean(all_test_corrs, axis=0)\n",
    "plt.plot(x)\n",
    "x"
   ]
  },
  {
   "cell_type": "code",
   "execution_count": null,
   "id": "16681687-d9b8-4e4b-bbf9-7b2c8201161b",
   "metadata": {},
   "outputs": [],
   "source": [
    "np.savez?"
   ]
  },
  {
   "cell_type": "code",
   "execution_count": null,
   "id": "88a1283c-8f64-4e52-948f-dd49ebb419a8",
   "metadata": {},
   "outputs": [],
   "source": [
    "np.savez(\"tcrp_fewshot-test-correlations\", all_test_corrs)"
   ]
  }
 ],
 "metadata": {
  "kernelspec": {
   "display_name": "Python (decipher)",
   "language": "python",
   "name": "decipher"
  },
  "language_info": {
   "codemirror_mode": {
    "name": "ipython",
    "version": 3
   },
   "file_extension": ".py",
   "mimetype": "text/x-python",
   "name": "python",
   "nbconvert_exporter": "python",
   "pygments_lexer": "ipython3",
   "version": "3.9.4"
  }
 },
 "nbformat": 4,
 "nbformat_minor": 5
}
