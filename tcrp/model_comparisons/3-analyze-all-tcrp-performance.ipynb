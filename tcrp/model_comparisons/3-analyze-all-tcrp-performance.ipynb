{
 "cells": [
  {
   "cell_type": "code",
   "execution_count": null,
   "id": "7c17701a-58ec-4af4-b5d0-5a35745cc7c8",
   "metadata": {},
   "outputs": [],
   "source": [
    "%load_ext autoreload\n",
    "%autoreload 2\n",
    "!echo $HOSTNAME\n",
    "\n",
    "import sys\n",
    "print('Python path: ', sys.executable)"
   ]
  },
  {
   "cell_type": "code",
   "execution_count": null,
   "id": "f2290887-39fd-4901-b6b7-26679ac9d81a",
   "metadata": {},
   "outputs": [],
   "source": [
    "from pathlib import Path\n",
    "from collections import namedtuple\n",
    "import numpy as np\n",
    "import matplotlib.pyplot as plt\n",
    "import pandas as pd\n",
    "import sys\n",
    "import pickle"
   ]
  },
  {
   "cell_type": "markdown",
   "id": "363540df-8642-486f-9d62-f155d2c7811e",
   "metadata": {},
   "source": [
    "## Gathering fewshot resutls"
   ]
  },
  {
   "cell_type": "code",
   "execution_count": null,
   "id": "762a5a59-033a-4aa5-ae2a-41360d4b56eb",
   "metadata": {},
   "outputs": [],
   "source": [
    "fewshot_performance = np.load(\"tcrp_fewshot-test-correlations.npz\")['arr_0']"
   ]
  },
  {
   "cell_type": "markdown",
   "id": "5f40acdf-0c9c-4ecb-80e5-5ba18e858f1b",
   "metadata": {},
   "source": [
    "## Gathering baselines"
   ]
  },
  {
   "cell_type": "code",
   "execution_count": null,
   "id": "e29fe865-3569-447e-a303-696e4d676fb5",
   "metadata": {},
   "outputs": [],
   "source": [
    "datapath = Path(\"../../output/210803_drug-baseline-models/baseline_performances\")"
   ]
  },
  {
   "cell_type": "code",
   "execution_count": null,
   "id": "23a1f301-8aaa-429e-8748-a19d95a9605d",
   "metadata": {},
   "outputs": [],
   "source": [
    "%%time\n",
    "\n",
    "results = {}\n",
    "for outer_directory in datapath.glob(\"*\"): \n",
    "    drug = outer_directory.stem\n",
    "    results[drug] = {}\n",
    "    \n",
    "    for inner_directory in outer_directory.glob(\"*\"): \n",
    "        tissue = inner_directory.stem\n",
    "        results[drug][tissue] = {}\n",
    "        \n",
    "        data = np.load(inner_directory / \"baseline_performance.npz\")\n",
    "        \n",
    "        for model in ['linear', 'KNN', 'RF']: \n",
    "            zero = data[f\"{model}-zero\"]\n",
    "            zero = np.vstack([zero for _ in range(20)]) # There is only 1 possible zero-shot, so expanding for all trials\n",
    "            performance = np.median(np.hstack([zero, data[f\"{model}-fewshot\"]]), axis=0)\n",
    "            \n",
    "            results[drug][tissue][model] = performance    "
   ]
  },
  {
   "cell_type": "code",
   "execution_count": null,
   "id": "23ed4996-5066-4cad-ba49-00ee9a10158e",
   "metadata": {},
   "outputs": [],
   "source": [
    "results_by_baseline = {'linear': [], 'KNN': [], 'RF': []}\n",
    "\n",
    "for drug, d in results.items(): \n",
    "    for tissue, d in d.items(): \n",
    "        for model, p in d.items(): \n",
    "            results_by_baseline[model].append(p)\n",
    "            \n",
    "for model, ps in results_by_baseline.items(): \n",
    "    results_by_baseline[model] = np.vstack(ps)"
   ]
  },
  {
   "cell_type": "markdown",
   "id": "dc9c7b38-7ba2-4533-9e8e-6d70d819b5ff",
   "metadata": {},
   "source": [
    "## All performance"
   ]
  },
  {
   "cell_type": "code",
   "execution_count": null,
   "id": "8e278b1d-2ccb-4957-8c59-362ec6403d0d",
   "metadata": {},
   "outputs": [],
   "source": [
    "def get_statistics(data): \n",
    "    median = np.nanmedian(data, axis=0)\n",
    "    index = np.random.choice(data.shape[0], size=(data.shape[0], 1000), replace=True)\n",
    "    resampled = np.nanmedian(data[index], axis=0)\n",
    "\n",
    "    low = np.nanpercentile(resampled, 2.5, axis=0)\n",
    "    high = np.nanpercentile(resampled, 97.5, axis=0)\n",
    "    \n",
    "    ci = np.vstack([median - low, high-median])\n",
    "    \n",
    "    return median, ci"
   ]
  },
  {
   "cell_type": "code",
   "execution_count": null,
   "id": "cc84e759-b553-48d4-aebb-ef7e653d0058",
   "metadata": {},
   "outputs": [],
   "source": [
    "fig, ax = plt.subplots()\n",
    "\n",
    "x = np.arange(11)\n",
    "\n",
    "kwargs = {'capsize': 4}\n",
    "\n",
    "for model, ps in results_by_baseline.items(): \n",
    "    median, yerr = get_statistics(ps)\n",
    "    ax.errorbar(x, median, yerr=yerr, label=model, **kwargs)\n",
    "    \n",
    "median, yerr = get_statistics(fewshot_performance)\n",
    "ax.errorbar(x, median, yerr=yerr, label='TCRP', **kwargs)\n",
    "\n",
    "ax.legend()\n",
    "labels = ['Pretrained'] + [str(i) for i in range(1, 11)]\n",
    "ax.set_xticks(np.arange(11))\n",
    "ax.set_xticklabels(labels)\n",
    "\n",
    "ax.set_ylim([0, 0.3])\n",
    "ax.set_xlabel(\"Number of samples, few-shot learning\")\n",
    "ax.set_ylabel(\"Correlation (predicted, actual)\")\n",
    "\n",
    "ax.set_title(\"Corrected results\")"
   ]
  }
 ],
 "metadata": {
  "kernelspec": {
   "display_name": "Python (decipher)",
   "language": "python",
   "name": "decipher"
  },
  "language_info": {
   "codemirror_mode": {
    "name": "ipython",
    "version": 3
   },
   "file_extension": ".py",
   "mimetype": "text/x-python",
   "name": "python",
   "nbconvert_exporter": "python",
   "pygments_lexer": "ipython3",
   "version": "3.9.4"
  }
 },
 "nbformat": 4,
 "nbformat_minor": 5
}
